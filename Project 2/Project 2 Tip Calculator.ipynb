{
 "cells": [
  {
   "cell_type": "code",
   "execution_count": 14,
   "id": "09c98ff0-be97-486d-886c-91d36b07d8b4",
   "metadata": {},
   "outputs": [
    {
     "name": "stdout",
     "output_type": "stream",
     "text": [
      "Welcome to the Tip Calculator!\n"
     ]
    },
    {
     "name": "stdin",
     "output_type": "stream",
     "text": [
      "What was the total bill? $ 40\n",
      "What percentage Tip would you like to give? 10, 12, or 15 10\n",
      "How many people to split the bill? 2\n"
     ]
    },
    {
     "name": "stdout",
     "output_type": "stream",
     "text": [
      "Each person should pay : $ 22.0 \n"
     ]
    }
   ],
   "source": [
    "print(\"Welcome to the Tip Calculator!\")\n",
    "Total_bill=float(input(\"What was the total bill? $\"))\n",
    "Tip=int(input(\"What percentage Tip would you like to give? 10, 12, or 15\"))\n",
    "Numb_people=int(input(\"How many people to split the bill?\"))\n",
    "Final_amount= Tip/100 * Total_bill + Total_bill\n",
    "Bill_pp= Final_amount/ Numb_people\n",
    "Final_amt_pp=round(Bill_pp,2)\n",
    "print(f\"Each person should pay : $ {Final_amt_pp} \")"
   ]
  },
  {
   "cell_type": "code",
   "execution_count": null,
   "id": "b28ba858-7fb5-47b5-85d5-df145a5ce0d8",
   "metadata": {},
   "outputs": [],
   "source": []
  }
 ],
 "metadata": {
  "kernelspec": {
   "display_name": "Python 3 (ipykernel)",
   "language": "python",
   "name": "python3"
  },
  "language_info": {
   "codemirror_mode": {
    "name": "ipython",
    "version": 3
   },
   "file_extension": ".py",
   "mimetype": "text/x-python",
   "name": "python",
   "nbconvert_exporter": "python",
   "pygments_lexer": "ipython3",
   "version": "3.11.7"
  }
 },
 "nbformat": 4,
 "nbformat_minor": 5
}
