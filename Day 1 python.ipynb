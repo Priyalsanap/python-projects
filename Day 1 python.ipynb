{
 "cells": [
  {
   "cell_type": "code",
   "execution_count": 3,
   "id": "8a0bd721-41a0-41db-8a2f-baabca8f8567",
   "metadata": {},
   "outputs": [
    {
     "name": "stdout",
     "output_type": "stream",
     "text": [
      "Hello World!\n"
     ]
    }
   ],
   "source": [
    "print(\"Hello World!\")"
   ]
  },
  {
   "cell_type": "code",
   "execution_count": 4,
   "id": "cbb66529-6d64-44a1-a874-8105bd5f2ba1",
   "metadata": {},
   "outputs": [
    {
     "name": "stdout",
     "output_type": "stream",
     "text": [
      "A 'single quote' inside a double quote\n",
      "A \"double quote\" inside a single quote\n",
      "Alternatively you can just \"escape\" the quote\n"
     ]
    }
   ],
   "source": [
    "print(\"A 'single quote' inside a double quote\")\n",
    "print('A \"double quote\" inside a single quote')\n",
    "print(\"Alternatively you can just \\\"escape\\\" the quote\")"
   ]
  },
  {
   "cell_type": "code",
   "execution_count": 5,
   "id": "b45e14cb-9997-44b8-b894-400d2da918d9",
   "metadata": {},
   "outputs": [
    {
     "ename": "SyntaxError",
     "evalue": "invalid character '“' (U+201C) (4052690606.py, line 1)",
     "output_type": "error",
     "traceback": [
      "\u001b[1;36m  Cell \u001b[1;32mIn[5], line 1\u001b[1;36m\u001b[0m\n\u001b[1;33m    print(“she said : “Hello” how are you”)\u001b[0m\n\u001b[1;37m          ^\u001b[0m\n\u001b[1;31mSyntaxError\u001b[0m\u001b[1;31m:\u001b[0m invalid character '“' (U+201C)\n"
     ]
    }
   ],
   "source": [
    "print(“she said : 'Hello' how are you”)"
   ]
  },
  {
   "cell_type": "code",
   "execution_count": 8,
   "id": "4567e045-4987-43e4-b7ca-3a099cd564a0",
   "metadata": {},
   "outputs": [
    {
     "name": "stdout",
     "output_type": "stream",
     "text": [
      "Hello world!\n",
      "Hello world!\n",
      "Hello World!\n"
     ]
    }
   ],
   "source": [
    "print(\"Hello world!\\nHello world!\\nHello World!\")"
   ]
  },
  {
   "cell_type": "code",
   "execution_count": 12,
   "id": "06bae817-5582-4fed-aeff-32b62d29a130",
   "metadata": {},
   "outputs": [
    {
     "name": "stdout",
     "output_type": "stream",
     "text": [
      "Hello Priyal\n"
     ]
    }
   ],
   "source": [
    "print(\"Hello\" +\" \"+ \"Priyal\")"
   ]
  },
  {
   "cell_type": "code",
   "execution_count": 13,
   "id": "286d02dd-80ad-4451-846d-986aa47c80df",
   "metadata": {},
   "outputs": [
    {
     "name": "stdin",
     "output_type": "stream",
     "text": [
      "What is yout name? priyal\n"
     ]
    },
    {
     "data": {
      "text/plain": [
       "'priyal'"
      ]
     },
     "execution_count": 13,
     "metadata": {},
     "output_type": "execute_result"
    }
   ],
   "source": [
    "input(\"What is yout name?\")"
   ]
  },
  {
   "cell_type": "code",
   "execution_count": null,
   "id": "53c17bd0-e52a-4e65-9e5f-5074c42e9257",
   "metadata": {},
   "outputs": [],
   "source": []
  },
  {
   "cell_type": "raw",
   "id": "f45b08e2-31c2-43dc-ac07-3689ced567cc",
   "metadata": {},
   "source": []
  },
  {
   "cell_type": "code",
   "execution_count": 24,
   "id": "68556df0-7a29-4e19-b4d5-681cdc766582",
   "metadata": {},
   "outputs": [
    {
     "name": "stdin",
     "output_type": "stream",
     "text": [
      "What is your name priyal\n"
     ]
    },
    {
     "name": "stdout",
     "output_type": "stream",
     "text": [
      "Hello priyal\n"
     ]
    }
   ],
   "source": [
    "print(\"Hello\" +\" \"+ input(\"What is your name\"))"
   ]
  },
  {
   "cell_type": "code",
   "execution_count": 21,
   "id": "f372d5d3-9dd5-4710-b2e0-473cbfc105e2",
   "metadata": {},
   "outputs": [
    {
     "name": "stdin",
     "output_type": "stream",
     "text": [
      "What is your name priyal\n"
     ]
    },
    {
     "name": "stdout",
     "output_type": "stream",
     "text": [
      "Hi How are you priyal\n"
     ]
    }
   ],
   "source": [
    "print(\"Hi\" +\" \"+ \"How are you\" +\" \"+ input(\"What is your name\"))"
   ]
  },
  {
   "cell_type": "code",
   "execution_count": null,
   "id": "f9edf148-ba86-4f8a-8389-c6490016bd03",
   "metadata": {},
   "outputs": [],
   "source": []
  }
 ],
 "metadata": {
  "kernelspec": {
   "display_name": "Python 3 (ipykernel)",
   "language": "python",
   "name": "python3"
  },
  "language_info": {
   "codemirror_mode": {
    "name": "ipython",
    "version": 3
   },
   "file_extension": ".py",
   "mimetype": "text/x-python",
   "name": "python",
   "nbconvert_exporter": "python",
   "pygments_lexer": "ipython3",
   "version": "3.11.7"
  }
 },
 "nbformat": 4,
 "nbformat_minor": 5
}
