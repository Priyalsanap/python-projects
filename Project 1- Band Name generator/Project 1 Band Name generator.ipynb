{
 "cells": [
  {
   "cell_type": "code",
   "execution_count": 14,
   "id": "fe7ac9e9-2c8f-4b4f-bdd8-b1466921ab18",
   "metadata": {},
   "outputs": [
    {
     "name": "stdout",
     "output_type": "stream",
     "text": [
      "Welcome to the Band name generator.\n"
     ]
    }
   ],
   "source": [
    "print(\"Welcome to the Band name generator.\")"
   ]
  },
  {
   "cell_type": "code",
   "execution_count": 18,
   "id": "48cff50c-eaa6-47af-98b3-821a01681e77",
   "metadata": {},
   "outputs": [
    {
     "name": "stdin",
     "output_type": "stream",
     "text": [
      "Whcih city you grew up in? \n",
      " m\n"
     ]
    }
   ],
   "source": [
    "City= input(\"Whcih city you grew up in?\\n\")"
   ]
  },
  {
   "cell_type": "code",
   "execution_count": 19,
   "id": "495bebe2-0661-47ea-87c8-b9b55c59d559",
   "metadata": {},
   "outputs": [
    {
     "name": "stdin",
     "output_type": "stream",
     "text": [
      "What is the name of the pet? \n",
      " ghk\n"
     ]
    }
   ],
   "source": [
    "Pet= input(\"What is the name of the pet?\\n\")"
   ]
  },
  {
   "cell_type": "code",
   "execution_count": 17,
   "id": "c2273646-ca9c-4f13-a8af-d50a853f87cd",
   "metadata": {},
   "outputs": [
    {
     "name": "stdout",
     "output_type": "stream",
     "text": [
      "Your band name could be mumbai sheru\n"
     ]
    }
   ],
   "source": [
    "print(\"Your band name could be \"+ City + \" \" + Pet)"
   ]
  },
  {
   "cell_type": "code",
   "execution_count": null,
   "id": "12a701e3-7abe-450a-b4cf-0123d398f6c4",
   "metadata": {},
   "outputs": [],
   "source": []
  },
  {
   "cell_type": "code",
   "execution_count": null,
   "id": "a250dd7e-eed5-4554-be39-1ea0a61fd594",
   "metadata": {},
   "outputs": [],
   "source": []
  }
 ],
 "metadata": {
  "kernelspec": {
   "display_name": "Python 3 (ipykernel)",
   "language": "python",
   "name": "python3"
  },
  "language_info": {
   "codemirror_mode": {
    "name": "ipython",
    "version": 3
   },
   "file_extension": ".py",
   "mimetype": "text/x-python",
   "name": "python",
   "nbconvert_exporter": "python",
   "pygments_lexer": "ipython3",
   "version": "3.11.7"
  }
 },
 "nbformat": 4,
 "nbformat_minor": 5
}
