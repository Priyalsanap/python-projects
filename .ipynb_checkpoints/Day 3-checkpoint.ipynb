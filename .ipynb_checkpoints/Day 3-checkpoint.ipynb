{
 "cells": [
  {
   "cell_type": "code",
   "execution_count": null,
   "id": "12dda94e-2daf-484f-854b-49f7418c6e68",
   "metadata": {},
   "outputs": [],
   "source": [
    "#Conditional Statement= If/ else statement\n",
    "#if condition: do this  else: do this"
   ]
  },
  {
   "cell_type": "code",
   "execution_count": 3,
   "id": "f083e124-788b-4fd7-8fb2-655c52c1a283",
   "metadata": {},
   "outputs": [
    {
     "name": "stdout",
     "output_type": "stream",
     "text": [
      "Welcome to the rollercoaster\n"
     ]
    },
    {
     "name": "stdin",
     "output_type": "stream",
     "text": [
      "What is your height in cm?  120\n"
     ]
    },
    {
     "name": "stdout",
     "output_type": "stream",
     "text": [
      "You can ride the rollercoaster!\n"
     ]
    }
   ],
   "source": [
    "print(\"Welcome to the rollercoaster\")\n",
    "height=int(input(\"What is your height in cm? \"))\n",
    "if height >= 120:\n",
    "    print(\"You can ride the rollercoaster!\")\n",
    "else:\n",
    "    print(\"Sorry, you have to grow taller before you can ride\")"
   ]
  },
  {
   "cell_type": "code",
   "execution_count": null,
   "id": "3fc79234-93af-4afa-a30d-e7ef220ac7b4",
   "metadata": {},
   "outputs": [],
   "source": [
    "#comparison Operators \n",
    "# > greater than\n",
    "# < less than"
   ]
  },
  {
   "cell_type": "code",
   "execution_count": 4,
   "id": "7e6e861b-83dc-4abc-ad60-a84995220fdc",
   "metadata": {},
   "outputs": [
    {
     "name": "stdin",
     "output_type": "stream",
     "text": [
      " 101\n"
     ]
    },
    {
     "name": "stdout",
     "output_type": "stream",
     "text": [
      "This is an odd number\n"
     ]
    }
   ],
   "source": [
    "#Modula= it is written as percentage sign in python and gives \n",
    "#you the remainder after division\n",
    "\n",
    "number= int(input())\n",
    "if number % 2 == 0:\n",
    "    print(\"This is an even number\")\n",
    "else:\n",
    "    print(\"This is an odd number\")\n",
    "    "
   ]
  },
  {
   "cell_type": "code",
   "execution_count": 6,
   "id": "fec3601e-c020-4ef1-9bc6-5fb1f334b99a",
   "metadata": {},
   "outputs": [
    {
     "name": "stdout",
     "output_type": "stream",
     "text": [
      "Welcome to the rollercoaster\n"
     ]
    },
    {
     "name": "stdin",
     "output_type": "stream",
     "text": [
      "What is your height in cm?  150\n"
     ]
    },
    {
     "name": "stdout",
     "output_type": "stream",
     "text": [
      "You can ride the rollercoaster!\n"
     ]
    },
    {
     "name": "stdin",
     "output_type": "stream",
     "text": [
      "What is your age 16\n"
     ]
    },
    {
     "name": "stdout",
     "output_type": "stream",
     "text": [
      "Please pay $7.\n"
     ]
    }
   ],
   "source": [
    "#Nested if statements and elif statements\n",
    "#condition k andar ka condition is nested statement\n",
    "\n",
    "print(\"Welcome to the rollercoaster\")\n",
    "height=int(input(\"What is your height in cm? \"))\n",
    "if height >= 120:\n",
    "    print(\"You can ride the rollercoaster!\")\n",
    "    age = int(input(\"What is your age\"))\n",
    "    if age <=18:\n",
    "        print(\"Please pay $7.\")\n",
    "    else:\n",
    "         print(\"Please pay $12.\")\n",
    "else:\n",
    "    print(\"Sorry, you have to grow taller before you can ride\")\n"
   ]
  },
  {
   "cell_type": "code",
   "execution_count": 7,
   "id": "58952193-f555-4351-ab0a-6d3c71b09e7a",
   "metadata": {},
   "outputs": [
    {
     "name": "stdout",
     "output_type": "stream",
     "text": [
      "Welcome to the rollercoaster\n"
     ]
    },
    {
     "name": "stdin",
     "output_type": "stream",
     "text": [
      "What is your height in cm?  150\n"
     ]
    },
    {
     "name": "stdout",
     "output_type": "stream",
     "text": [
      "You can ride the rollercoaster!\n"
     ]
    },
    {
     "name": "stdin",
     "output_type": "stream",
     "text": [
      "What is your age 13\n"
     ]
    },
    {
     "name": "stdout",
     "output_type": "stream",
     "text": [
      "Please pay $7.\n"
     ]
    }
   ],
   "source": [
    "#Elif condition- when there are more then 1 condition \n",
    "\n",
    "print(\"Welcome to the rollercoaster\")\n",
    "height=int(input(\"What is your height in cm? \"))\n",
    "if height >= 120:\n",
    "    print(\"You can ride the rollercoaster!\")\n",
    "    age = int(input(\"What is your age\"))\n",
    "    if age <=12:\n",
    "        print(\"Please pay $5.\")\n",
    "    elif age <=18:\n",
    "        print(\"Please pay $7.\")\n",
    "    else:\n",
    "         print(\"Please pay $12.\")\n",
    "else:\n",
    "    print(\"Sorry, you have to grow taller before you can ride\")"
   ]
  },
  {
   "cell_type": "code",
   "execution_count": 9,
   "id": "12d2c518-2ab4-427d-9004-2f0b8d73d725",
   "metadata": {},
   "outputs": [
    {
     "name": "stdin",
     "output_type": "stream",
     "text": [
      " 2.7\n",
      " 50\n"
     ]
    },
    {
     "name": "stdout",
     "output_type": "stream",
     "text": [
      "your BMI is 6.858710562414266, you are underweight.\n"
     ]
    }
   ],
   "source": [
    "#BMI Calculation 2.0\n",
    "\n",
    "height= float(input())\n",
    "weight= int(input())\n",
    "bmi= weight/ (height**2)\n",
    "if bmi <18.5:\n",
    "    print(f\"your BMI is {bmi}, you are underweight.\")\n",
    "elif bmi <25:\n",
    "    print(f\"your BMI is {bmi}, you have a normal weight.\")\n",
    "elif bmi <30:\n",
    "    print(f\"your BMI is {bmi}, you have a slightly over weight.\")\n",
    "elif bmi <35:\n",
    "    print(f\"your BMI is {bmi}, you are obese.\")\n",
    "else:\n",
    "     print(f\"your BMI is {bmi}, you are clinically obese.\")"
   ]
  },
  {
   "cell_type": "code",
   "execution_count": 11,
   "id": "3744b6fa-03ac-4ce6-aeed-1c3ee9b9d617",
   "metadata": {},
   "outputs": [
    {
     "name": "stdin",
     "output_type": "stream",
     "text": [
      " 2024\n"
     ]
    },
    {
     "name": "stdout",
     "output_type": "stream",
     "text": [
      "leap year\n"
     ]
    }
   ],
   "source": [
    "#leap year excercise.\n",
    "\n",
    "year= int(input())\n",
    "if year %4 ==0 :\n",
    "    if year %100==0 :\n",
    "        if year %400==0 :\n",
    "            print(\"Leap year\")\n",
    "        else:\n",
    "            print(\" Not a leap year\")           \n",
    "    else :\n",
    "        print(\"leap year\")\n",
    "else :\n",
    "    print(\" Not a leap year\")"
   ]
  },
  {
   "cell_type": "code",
   "execution_count": 15,
   "id": "806d5146-d4c6-4792-9adb-7f17743f4524",
   "metadata": {},
   "outputs": [
    {
     "name": "stdout",
     "output_type": "stream",
     "text": [
      "Welcome to the rollercoaster\n"
     ]
    },
    {
     "name": "stdin",
     "output_type": "stream",
     "text": [
      "What is your height in cm?  180\n"
     ]
    },
    {
     "name": "stdout",
     "output_type": "stream",
     "text": [
      "You can ride the rollercoaster!\n"
     ]
    },
    {
     "name": "stdin",
     "output_type": "stream",
     "text": [
      "What is your age 21\n"
     ]
    },
    {
     "name": "stdout",
     "output_type": "stream",
     "text": [
      "Adult ticket is $12.\n"
     ]
    },
    {
     "name": "stdin",
     "output_type": "stream",
     "text": [
      " Do you want a photo taken? Y or N. Y\n"
     ]
    },
    {
     "name": "stdout",
     "output_type": "stream",
     "text": [
      " Your final bill is 15\n"
     ]
    }
   ],
   "source": [
    "# Multiple If in sucession \n",
    "print(\"Welcome to the rollercoaster\")\n",
    "height=int(input(\"What is your height in cm? \"))\n",
    "bill=0\n",
    "if height >= 120:\n",
    "    print(\"You can ride the rollercoaster!\")\n",
    "    age = int(input(\"What is your age\"))\n",
    "    if age <=12:\n",
    "        bill= 5\n",
    "        print(\"Child ticket is $5.\")\n",
    "    elif age <=18:\n",
    "        bill=7\n",
    "        print(\"Youth ticket is $7.\")\n",
    "    else:\n",
    "        bill=12\n",
    "        print(\"Adult ticket is $12.\")\n",
    "        \n",
    "    wants_photo = input(\" Do you want a photo taken? Y or N.\")\n",
    "    if  wants_photo == \"Y\":\n",
    "        bill= bill+3\n",
    "    print (f\" Your final bill is {bill}\")\n",
    "else:\n",
    "    print(\"Sorry, you have to grow taller before you can ride\")"
   ]
  },
  {
   "cell_type": "code",
   "execution_count": 17,
   "id": "b23a5638-33a3-4d53-a110-413fc0aec937",
   "metadata": {},
   "outputs": [
    {
     "name": "stdout",
     "output_type": "stream",
     "text": [
      "Thank you for choosing Python Pizza Deliveries!\n"
     ]
    },
    {
     "name": "stdin",
     "output_type": "stream",
     "text": [
      " L\n",
      " Y\n",
      " N\n"
     ]
    },
    {
     "name": "stdout",
     "output_type": "stream",
     "text": [
      "Your final bill is : $28.\n"
     ]
    }
   ],
   "source": [
    "#Pizza order practice\n",
    "print(\"Thank you for choosing Python Pizza Deliveries!\")\n",
    "size = input()\n",
    "add_pepperoni = input()\n",
    "extra_cheese = input()\n",
    "bill=0\n",
    "if size == \"S\":\n",
    "    bill += 15\n",
    "elif size == \"M\":\n",
    "    bill += 20\n",
    "else:\n",
    "    bill +=25\n",
    "\n",
    "if add_pepperoni ==\"Y\" :\n",
    "    if size  == \"S\" :\n",
    "        bill +=2\n",
    "    else :\n",
    "        bill +=3\n",
    "\n",
    "if extra_cheese == \"Y\" :\n",
    "    bill +=2\n",
    "\n",
    "print(f\"Your final bill is : ${bill}.\")\n"
   ]
  },
  {
   "cell_type": "code",
   "execution_count": null,
   "id": "aa5f8ae4-a6da-426f-bb2f-df6df658c892",
   "metadata": {},
   "outputs": [],
   "source": [
    "#Logical operators-- and, or, not\n",
    "#and= both A and B should be true if one is true and other is false its false.\n",
    "#or= if C or D are true then true if both are false then it is false\n",
    "#not E = it reverse the statement by adding not before it."
   ]
  },
  {
   "cell_type": "code",
   "execution_count": 19,
   "id": "bb4db599-886a-4f1e-99d1-a228edbb84f5",
   "metadata": {},
   "outputs": [
    {
     "name": "stdout",
     "output_type": "stream",
     "text": [
      "Welcome to the rollercoaster\n"
     ]
    },
    {
     "name": "stdin",
     "output_type": "stream",
     "text": [
      "What is your height in cm?  150\n"
     ]
    },
    {
     "name": "stdout",
     "output_type": "stream",
     "text": [
      "You can ride the rollercoaster!\n"
     ]
    },
    {
     "name": "stdin",
     "output_type": "stream",
     "text": [
      "What is your age 47\n"
     ]
    },
    {
     "name": "stdout",
     "output_type": "stream",
     "text": [
      "Everything is going to be okay. Have a free ride on us!\n"
     ]
    },
    {
     "name": "stdin",
     "output_type": "stream",
     "text": [
      " Do you want a photo taken? Y or N. Y\n"
     ]
    },
    {
     "name": "stdout",
     "output_type": "stream",
     "text": [
      " Your final bill is 3\n"
     ]
    }
   ],
   "source": [
    "print(\"Welcome to the rollercoaster\")\n",
    "height=int(input(\"What is your height in cm? \"))\n",
    "bill=0\n",
    "if height >= 120:\n",
    "    print(\"You can ride the rollercoaster!\")\n",
    "    age = int(input(\"What is your age\"))\n",
    "    if age <=12:\n",
    "        bill= 5\n",
    "        print(\"Child ticket is $5.\")\n",
    "    elif age <=18:\n",
    "        bill=7\n",
    "        print(\"Youth ticket is $7.\")\n",
    "    elif age >=45 and age <=55 :\n",
    "        print(\"Everything is going to be okay. Have a free ride on us!\")\n",
    "    else:\n",
    "        bill=12\n",
    "        print(\"Adult ticket is $12.\")\n",
    "        \n",
    "    wants_photo = input(\" Do you want a photo taken? Y or N.\")\n",
    "    if  wants_photo == \"Y\":\n",
    "        bill= bill+3\n",
    "    print (f\" Your final bill is {bill}\")\n",
    "else:\n",
    "    print(\"Sorry, you have to grow taller before you can ride\")"
   ]
  },
  {
   "cell_type": "code",
   "execution_count": 37,
   "id": "560ec5bd-89a5-4228-8a7f-cd2571611402",
   "metadata": {},
   "outputs": [
    {
     "name": "stdout",
     "output_type": "stream",
     "text": [
      "The Love Calculator is caluclating your score...\n"
     ]
    },
    {
     "name": "stdin",
     "output_type": "stream",
     "text": [
      " Pratiksha\n",
      " Sanket\n"
     ]
    },
    {
     "name": "stdout",
     "output_type": "stream",
     "text": [
      " Your score is 41 , you are alright together\n"
     ]
    }
   ],
   "source": [
    "#Love calculator\n",
    "print(\"The Love Calculator is caluclating your score...\")\n",
    "name1= input()\n",
    "name2= input()\n",
    "combined_name= name1 + name2\n",
    "lower_names= combined_name.lower()\n",
    "t= lower_names.count (\"t\")\n",
    "r= lower_names.count (\"r\")\n",
    "u= lower_names.count (\"u\")\n",
    "e= lower_names.count (\"e\")\n",
    "first_digit= t + r + u + e\n",
    "l= lower_names.count (\"l\")\n",
    "o= lower_names.count (\"o\")\n",
    "v= lower_names.count (\"v\")\n",
    "e= lower_names.count (\"e\")\n",
    "second_digit= l + o + v + e\n",
    "score= int(str(first_digit) + str(second_digit))\n",
    "if score<10 or score>90 :\n",
    "    print(f\" Your score is {score} , you go together like coke and mentos.\")\n",
    "elif score >= 40 and score <= 50:\n",
    "    print(f\" Your score is: {score} , you are alright together\")\n",
    "else :\n",
    "    print(f\" Your score is: {score}\")"
   ]
  },
  {
   "cell_type": "code",
   "execution_count": null,
   "id": "d690ddce-cd67-413e-8cae-0cfeb718e0d5",
   "metadata": {},
   "outputs": [],
   "source": []
  },
  {
   "cell_type": "code",
   "execution_count": null,
   "id": "00c34049-8870-4e3e-9c90-63b8c8518b6e",
   "metadata": {},
   "outputs": [],
   "source": []
  },
  {
   "cell_type": "code",
   "execution_count": null,
   "id": "14269c96-87ca-4c87-b64a-be24c5e99808",
   "metadata": {},
   "outputs": [],
   "source": []
  }
 ],
 "metadata": {
  "kernelspec": {
   "display_name": "Python 3 (ipykernel)",
   "language": "python",
   "name": "python3"
  },
  "language_info": {
   "codemirror_mode": {
    "name": "ipython",
    "version": 3
   },
   "file_extension": ".py",
   "mimetype": "text/x-python",
   "name": "python",
   "nbconvert_exporter": "python",
   "pygments_lexer": "ipython3",
   "version": "3.11.7"
  }
 },
 "nbformat": 4,
 "nbformat_minor": 5
}
