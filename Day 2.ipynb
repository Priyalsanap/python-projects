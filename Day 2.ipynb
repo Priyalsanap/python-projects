{
 "cells": [
  {
   "cell_type": "code",
   "execution_count": 1,
   "id": "e144ff17-70b1-4fdb-b215-dff7e18ba70c",
   "metadata": {},
   "outputs": [],
   "source": [
    "#Data Types\n",
    "#strings #float #int #boolean"
   ]
  },
  {
   "cell_type": "code",
   "execution_count": 2,
   "id": "7cd56c58-40e0-4419-a987-e46fc34e8b9a",
   "metadata": {},
   "outputs": [
    {
     "name": "stdout",
     "output_type": "stream",
     "text": [
      "H\n"
     ]
    }
   ],
   "source": [
    "print(\"Hello\"[0])\n",
    "#coding counts letter from 0,1,2,3...\n",
    "#Here where are identifying the first letter this is called as subscript\n"
   ]
  },
  {
   "cell_type": "code",
   "execution_count": 5,
   "id": "3448d1c1-df3b-4fd1-b8cd-fd58a1f75fbe",
   "metadata": {},
   "outputs": [
    {
     "name": "stdout",
     "output_type": "stream",
     "text": [
      "o\n"
     ]
    }
   ],
   "source": [
    "print(\"Hello\"[4])"
   ]
  },
  {
   "cell_type": "code",
   "execution_count": 6,
   "id": "14e23ce5-e506-47e4-8850-68e602feb4cd",
   "metadata": {},
   "outputs": [
    {
     "name": "stdout",
     "output_type": "stream",
     "text": [
      "123345\n"
     ]
    }
   ],
   "source": [
    "print(\"123\"+\"345\")\n",
    "#it doesn't add numbers on concatenate\n",
    "#to add these numbers we have give correct command od INteger only intergers no decimals"
   ]
  },
  {
   "cell_type": "code",
   "execution_count": 7,
   "id": "4fd0e076-cedd-426e-aac9-6ded86cbb6d4",
   "metadata": {},
   "outputs": [
    {
     "name": "stdout",
     "output_type": "stream",
     "text": [
      "468\n"
     ]
    }
   ],
   "source": [
    "print(123 + 345)\n",
    "#for adding the numbers strings are not required i.e \" \" is not required"
   ]
  },
  {
   "cell_type": "code",
   "execution_count": 9,
   "id": "7ceffee7-be28-4922-a520-917410116355",
   "metadata": {},
   "outputs": [],
   "source": [
    "#Larger intergers  like 12,789,843 are given in form on 12_789_843 for us to undertand\n",
    "#decimal numbers are called as float data type - 3141.59\n",
    "#boolean data type only two possible value true or false... very important\n",
    "#BOOLEANS donot have quotation maarks if true or false in quaotaion then it is string"
   ]
  },
  {
   "cell_type": "code",
   "execution_count": 10,
   "id": "ad462eb6-5eb6-4cbc-9c8b-f3b6a18d274e",
   "metadata": {},
   "outputs": [],
   "source": [
    "#len function gives type error if we put numbers instead of string"
   ]
  },
  {
   "cell_type": "code",
   "execution_count": 14,
   "id": "0e2876c3-458e-47d6-99aa-1d212e7f28a7",
   "metadata": {},
   "outputs": [
    {
     "name": "stdout",
     "output_type": "stream",
     "text": [
      "<class 'int'>\n"
     ]
    }
   ],
   "source": [
    "a = (123)\n",
    "print(type(a))\n",
    "#Here a=123 is a number not a string"
   ]
  },
  {
   "cell_type": "code",
   "execution_count": 15,
   "id": "d8cb7a3c-5c8c-4ee2-93e8-be3cd630e067",
   "metadata": {},
   "outputs": [
    {
     "name": "stdout",
     "output_type": "stream",
     "text": [
      "<class 'str'>\n"
     ]
    }
   ],
   "source": [
    "a= str(123)\n",
    "print(type(a))\n",
    "#Here we are converting an Int into a string by using str function \n",
    "#Type fuction then verifies wht is the type of the variable in this case a."
   ]
  },
  {
   "cell_type": "code",
   "execution_count": 18,
   "id": "49bc911a-084e-45ae-a045-cc10b9c64808",
   "metadata": {},
   "outputs": [
    {
     "name": "stdin",
     "output_type": "stream",
     "text": [
      "What is your name? sandip\n"
     ]
    },
    {
     "name": "stdout",
     "output_type": "stream",
     "text": [
      "Your name contains 6 characters\n"
     ]
    }
   ],
   "source": [
    "num_char = len(input(\"What is your name?\"))\n",
    "#num_char cannot tell the number in int so we have to convert it into string\n",
    "new_num_char = str(num_char)\n",
    "print(\"Your name contains \" + new_num_char + \" characters\")"
   ]
  },
  {
   "cell_type": "code",
   "execution_count": 19,
   "id": "a372cedd-cd30-4085-9f98-8c06a29e689b",
   "metadata": {},
   "outputs": [
    {
     "name": "stdout",
     "output_type": "stream",
     "text": [
      "170.5\n"
     ]
    }
   ],
   "source": [
    "print(70 + float(\"100.5\"))"
   ]
  },
  {
   "cell_type": "code",
   "execution_count": 20,
   "id": "438ce2f6-591c-44b0-bed2-3913950b7091",
   "metadata": {},
   "outputs": [
    {
     "name": "stdout",
     "output_type": "stream",
     "text": [
      "70100\n"
     ]
    }
   ],
   "source": [
    "print(str(70)+ str(100))"
   ]
  },
  {
   "cell_type": "code",
   "execution_count": 21,
   "id": "8c033b9d-c835-4437-a0e6-e6e9bae2eb05",
   "metadata": {},
   "outputs": [
    {
     "name": "stdout",
     "output_type": "stream",
     "text": [
      "12\n"
     ]
    }
   ],
   "source": [
    "print(3+9)"
   ]
  },
  {
   "cell_type": "code",
   "execution_count": 22,
   "id": "1a1df79c-562c-43e2-b296-8bbb838cc4c3",
   "metadata": {},
   "outputs": [
    {
     "name": "stdout",
     "output_type": "stream",
     "text": [
      "7.0\n"
     ]
    }
   ],
   "source": [
    "print(3*3+3/3-3)\n",
    "#here the PEDMAS rule is followed"
   ]
  },
  {
   "cell_type": "code",
   "execution_count": 24,
   "id": "103b400d-fc31-49f5-9118-46036aaa6100",
   "metadata": {},
   "outputs": [
    {
     "name": "stdout",
     "output_type": "stream",
     "text": [
      "3.0\n",
      "3.0\n"
     ]
    }
   ],
   "source": [
    "print(3*3/3+3-3)\n",
    "#or\n",
    "print(3*(3+3)/3-3)"
   ]
  },
  {
   "cell_type": "code",
   "execution_count": 30,
   "id": "d529b808-ab92-48f7-b3da-d33cfe57021a",
   "metadata": {},
   "outputs": [
    {
     "name": "stdin",
     "output_type": "stream",
     "text": [
      " 1.63\n",
      " 69\n"
     ]
    },
    {
     "name": "stdout",
     "output_type": "stream",
     "text": [
      "25\n"
     ]
    }
   ],
   "source": [
    "#BMI Calculator= weight(kg)/height*height(m*m)\n",
    "height = input()\n",
    "weight = input()\n",
    "weig_int = int(weight)\n",
    "new_height = float(height)\n",
    "BMI = weig_int/(new_height**2)\n",
    "\n",
    "BMI_as_int = int(BMI)\n",
    "print(BMI_as_int)\n",
    "\n"
   ]
  },
  {
   "cell_type": "code",
   "execution_count": 34,
   "id": "d471fc20-b5c4-41b4-992d-5d4ddad4677b",
   "metadata": {},
   "outputs": [
    {
     "name": "stdout",
     "output_type": "stream",
     "text": [
      "2\n"
     ]
    }
   ],
   "source": [
    "print(int(8/3))"
   ]
  },
  {
   "cell_type": "code",
   "execution_count": 37,
   "id": "1e25d569-c172-4eec-a6d8-ee3db85db390",
   "metadata": {},
   "outputs": [
    {
     "name": "stdout",
     "output_type": "stream",
     "text": [
      "3\n",
      "2.67\n"
     ]
    }
   ],
   "source": [
    "#For 8/3 the answer is 2.7 if we use int function then the answer comes as 2.\n",
    "#this is not the precise answer hence we use round function\n",
    "print(round(8/3))\n",
    "#we can also add the number of decimal point till which we want ot show the number\n",
    "print(round(8/3,2))"
   ]
  },
  {
   "cell_type": "code",
   "execution_count": 38,
   "id": "53424933-a6b1-4d0e-a0ea-aef3b4596627",
   "metadata": {},
   "outputs": [
    {
     "name": "stdout",
     "output_type": "stream",
     "text": [
      "2\n"
     ]
    }
   ],
   "source": [
    "print(8//3)\n",
    "#this funtion type is automatically changed to interger because of flow division //\n"
   ]
  },
  {
   "cell_type": "code",
   "execution_count": 40,
   "id": "aac46140-939a-43b6-a594-6229712164b2",
   "metadata": {},
   "outputs": [
    {
     "name": "stdout",
     "output_type": "stream",
     "text": [
      "1.0\n"
     ]
    }
   ],
   "source": [
    "result=4/2\n",
    "result/=2\n",
    "print(result)\n",
    "#here we are using the value based on the previous value"
   ]
  },
  {
   "cell_type": "markdown",
   "id": "1854d49c-b7db-4448-ae6b-bb68ac951ab0",
   "metadata": {},
   "source": [
    "score=0\n",
    "height=1.8\n",
    "iswinning=True\n",
    "print(\"your score is\" + str(score) + str(height) + str(iswinning))"
   ]
  },
  {
   "cell_type": "code",
   "execution_count": 53,
   "id": "3e21a94d-3c3f-4f68-8508-9b6deec41827",
   "metadata": {},
   "outputs": [
    {
     "name": "stdout",
     "output_type": "stream",
     "text": [
      "your score is 0 your height is 1.8 you are winning True\n"
     ]
    }
   ],
   "source": [
    "score=0 \n",
    "height=1.8 \n",
    "iswinning=True \n",
    "print(\"your score is \" + str(score) + \" your height is \" + str(height) + \" you are winning \"+ str(iswinning))\n"
   ]
  },
  {
   "cell_type": "code",
   "execution_count": 56,
   "id": "68d11cff-1e1e-4374-9971-5bd9b67c7c0f",
   "metadata": {},
   "outputs": [
    {
     "name": "stdout",
     "output_type": "stream",
     "text": [
      "your score is 0, your height is 1.8, you are winning is True\n"
     ]
    }
   ],
   "source": [
    "#In the above acode we have to use the str fuction everywhere in the print\n",
    "#we do this to get correct type \n",
    "#this can to easily done by using the Fstring fuction and {}\n",
    "#In Fstring fucntion you do not need to change the type to string always.\n",
    "score=0 \n",
    "height=1.8 \n",
    "iswinning=True\n",
    "print(f\"your score is {score}, your height is {height}, you are winning is {iswinning}\")"
   ]
  },
  {
   "cell_type": "code",
   "execution_count": 64,
   "id": "4e95bf39-5a22-43db-aa07-19f8f449d0e5",
   "metadata": {},
   "outputs": [
    {
     "name": "stdin",
     "output_type": "stream",
     "text": [
      " 41\n"
     ]
    },
    {
     "name": "stdout",
     "output_type": "stream",
     "text": [
      "You have 2548 weeks left\n"
     ]
    }
   ],
   "source": [
    "#Life in weeks\n",
    "#we will calculate how many weeks you have left  if you live till 90yrs old.\n",
    "age= input()\n",
    "years= 90-int(age)\n",
    "weeks_left= years*52\n",
    "print(f\"You have {weeks_left} weeks left\")"
   ]
  },
  {
   "cell_type": "code",
   "execution_count": 65,
   "id": "f8d2ade6-9a78-463e-bd8e-bc7feee0ec70",
   "metadata": {},
   "outputs": [
    {
     "name": "stdout",
     "output_type": "stream",
     "text": [
      "6.0\n"
     ]
    }
   ],
   "source": [
    "print(6 + 4 / 2 - (1 * 2))"
   ]
  },
  {
   "cell_type": "code",
   "execution_count": null,
   "id": "1db22e14-d2fa-48ae-816c-e25fa0570170",
   "metadata": {},
   "outputs": [],
   "source": []
  }
 ],
 "metadata": {
  "kernelspec": {
   "display_name": "Python 3 (ipykernel)",
   "language": "python",
   "name": "python3"
  },
  "language_info": {
   "codemirror_mode": {
    "name": "ipython",
    "version": 3
   },
   "file_extension": ".py",
   "mimetype": "text/x-python",
   "name": "python",
   "nbconvert_exporter": "python",
   "pygments_lexer": "ipython3",
   "version": "3.11.7"
  }
 },
 "nbformat": 4,
 "nbformat_minor": 5
}
